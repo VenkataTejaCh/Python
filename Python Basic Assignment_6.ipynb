{
 "cells": [
  {
   "cell_type": "raw",
   "id": "5758516c",
   "metadata": {},
   "source": [
    "1. What are escape characters, and how do you use them?"
   ]
  },
  {
   "cell_type": "raw",
   "id": "be632544",
   "metadata": {},
   "source": [
    "An escape character is a backslash \\ followed by the character you want to insert.escape characters represent characters in string values that would otherwise be difficult or impossible to type into code\n",
    "\n",
    "Some of the escape characters are:\n",
    "\n",
    "\\'\tSingle Quote\t\n",
    "\\\\\tBackslash\t\n",
    "\\n\tNew Line\t\n",
    "\\r\tCarriage Return\t\n",
    "\\t\tTab\t\n",
    "\\b\tBackspace\t\n",
    "\\f\tForm Feed\t\n",
    "\\ooo\tOctal value\t\n",
    "\\xhh\tHex value"
   ]
  },
  {
   "cell_type": "code",
   "execution_count": 5,
   "id": "30dc74a3",
   "metadata": {},
   "outputs": [
    {
     "data": {
      "text/plain": [
       "'We are \"Indians\".'"
      ]
     },
     "execution_count": 5,
     "metadata": {},
     "output_type": "execute_result"
    }
   ],
   "source": [
    "txt = \"We are \\\"Indians\\\".\"\n",
    "txt"
   ]
  },
  {
   "cell_type": "raw",
   "id": "f4530a2f",
   "metadata": {},
   "source": [
    "2. What do the escape characters n and t stand for?"
   ]
  },
  {
   "cell_type": "code",
   "execution_count": null,
   "id": "0e7a819b",
   "metadata": {},
   "outputs": [],
   "source": [
    "Answer: \n",
    "    \\n - New Line\n",
    "    \\t - Tab space\n",
    "Examples: Given below"
   ]
  },
  {
   "cell_type": "code",
   "execution_count": 2,
   "id": "beb7981b",
   "metadata": {},
   "outputs": [
    {
     "name": "stdout",
     "output_type": "stream",
     "text": [
      "Hello\n",
      "World!\n"
     ]
    }
   ],
   "source": [
    "txt = \"Hello\\nWorld!\"\n",
    "print(txt) "
   ]
  },
  {
   "cell_type": "code",
   "execution_count": 1,
   "id": "78e690f0",
   "metadata": {},
   "outputs": [
    {
     "name": "stdout",
     "output_type": "stream",
     "text": [
      "Hello\tWorld!\n"
     ]
    }
   ],
   "source": [
    "txt = \"Hello\\tWorld!\"\n",
    "print(txt) "
   ]
  },
  {
   "cell_type": "raw",
   "id": "08f88e10",
   "metadata": {},
   "source": [
    "3. What is the way to include backslash characters in a string?"
   ]
  },
  {
   "cell_type": "raw",
   "id": "31cf6eba",
   "metadata": {},
   "source": [
    "Answer: \\\\ - will include backslash character in a string"
   ]
  },
  {
   "cell_type": "code",
   "execution_count": 12,
   "id": "a21a8c2d",
   "metadata": {},
   "outputs": [
    {
     "name": "stdout",
     "output_type": "stream",
     "text": [
      "Men \\ Women\n"
     ]
    }
   ],
   "source": [
    "txt = \"Men \\\\ Women\"\n",
    "print(txt)"
   ]
  },
  {
   "cell_type": "raw",
   "id": "df0f8bc2",
   "metadata": {},
   "source": [
    "4. The string \"Howl's Moving Castle\" is a correct value. Why isn't the single quote character in the word Howl's not escaped a problem?"
   ]
  },
  {
   "cell_type": "raw",
   "id": "4b0476f9",
   "metadata": {},
   "source": [
    "Answer:\n",
    "    The single quote in Howl's is fine because you've used double quotes to mark the beginning and end of the string."
   ]
  },
  {
   "cell_type": "code",
   "execution_count": 12,
   "id": "a51cc9c4",
   "metadata": {},
   "outputs": [
    {
     "data": {
      "text/plain": [
       "\"Howl's Moving Castle\""
      ]
     },
     "execution_count": 12,
     "metadata": {},
     "output_type": "execute_result"
    }
   ],
   "source": [
    "\"Howl's Moving Castle\""
   ]
  },
  {
   "cell_type": "code",
   "execution_count": 14,
   "id": "edfc6168",
   "metadata": {},
   "outputs": [
    {
     "ename": "SyntaxError",
     "evalue": "invalid syntax (Temp/ipykernel_6952/2057793136.py, line 1)",
     "output_type": "error",
     "traceback": [
      "\u001b[1;36m  File \u001b[1;32m\"C:\\Users\\Dell\\AppData\\Local\\Temp/ipykernel_6952/2057793136.py\"\u001b[1;36m, line \u001b[1;32m1\u001b[0m\n\u001b[1;33m    'Howl's Moving Castle'\u001b[0m\n\u001b[1;37m          ^\u001b[0m\n\u001b[1;31mSyntaxError\u001b[0m\u001b[1;31m:\u001b[0m invalid syntax\n"
     ]
    }
   ],
   "source": [
    "'Howl's Moving Castle' #If we give single quote then we will get error"
   ]
  },
  {
   "cell_type": "raw",
   "id": "34b1ae4a",
   "metadata": {},
   "source": [
    "5. How do you write a string of newlines if you don't want to use the n character?"
   ]
  },
  {
   "cell_type": "raw",
   "id": "aaf09d99",
   "metadata": {},
   "source": [
    "Answer:\n",
    "Multiline strings allow you to use newlines in strings without the \\n escape character."
   ]
  },
  {
   "cell_type": "raw",
   "id": "8699ca2a",
   "metadata": {},
   "source": [
    "6. What are the values of the given expressions?\n",
    "\n",
    "\n",
    "'Hello, world!'[1]  --> 'e' \n",
    "'Hello, world!'[0:5]--> 'Hello'\n",
    "'Hello, world!'[:5]--->'Hello'\n",
    "'Hello, world!'[3:]--->'lo, world!'\n"
   ]
  },
  {
   "cell_type": "code",
   "execution_count": 1,
   "id": "9e464396",
   "metadata": {},
   "outputs": [
    {
     "data": {
      "text/plain": [
       "'e'"
      ]
     },
     "execution_count": 1,
     "metadata": {},
     "output_type": "execute_result"
    }
   ],
   "source": [
    "'Hello, world!'[1]"
   ]
  },
  {
   "cell_type": "code",
   "execution_count": 2,
   "id": "4565f573",
   "metadata": {},
   "outputs": [
    {
     "data": {
      "text/plain": [
       "'Hello'"
      ]
     },
     "execution_count": 2,
     "metadata": {},
     "output_type": "execute_result"
    }
   ],
   "source": [
    "'Hello, world!'[0:5]"
   ]
  },
  {
   "cell_type": "code",
   "execution_count": 3,
   "id": "1b52e906",
   "metadata": {},
   "outputs": [
    {
     "data": {
      "text/plain": [
       "'Hello'"
      ]
     },
     "execution_count": 3,
     "metadata": {},
     "output_type": "execute_result"
    }
   ],
   "source": [
    "'Hello, world!'[:5]"
   ]
  },
  {
   "cell_type": "code",
   "execution_count": 4,
   "id": "8d29c62c",
   "metadata": {},
   "outputs": [
    {
     "data": {
      "text/plain": [
       "'lo, world!'"
      ]
     },
     "execution_count": 4,
     "metadata": {},
     "output_type": "execute_result"
    }
   ],
   "source": [
    "'Hello, world!'[3:]"
   ]
  },
  {
   "cell_type": "code",
   "execution_count": null,
   "id": "a4dca887",
   "metadata": {},
   "outputs": [],
   "source": [
    "7. What are the values of the following expressions?\n",
    "\n",
    "'Hello'.upper() -----------> 'HELLO'\n",
    "'Hello'.upper().isupper()--> True\n",
    "'Hello'.upper().lower()----> 'hello'"
   ]
  },
  {
   "cell_type": "code",
   "execution_count": 5,
   "id": "c4d43479",
   "metadata": {},
   "outputs": [
    {
     "data": {
      "text/plain": [
       "'HELLO'"
      ]
     },
     "execution_count": 5,
     "metadata": {},
     "output_type": "execute_result"
    }
   ],
   "source": [
    "'Hello'.upper()"
   ]
  },
  {
   "cell_type": "code",
   "execution_count": 6,
   "id": "5d85aec7",
   "metadata": {},
   "outputs": [
    {
     "data": {
      "text/plain": [
       "True"
      ]
     },
     "execution_count": 6,
     "metadata": {},
     "output_type": "execute_result"
    }
   ],
   "source": [
    "'Hello'.upper().isupper()"
   ]
  },
  {
   "cell_type": "code",
   "execution_count": 7,
   "id": "07019426",
   "metadata": {},
   "outputs": [
    {
     "data": {
      "text/plain": [
       "'hello'"
      ]
     },
     "execution_count": 7,
     "metadata": {},
     "output_type": "execute_result"
    }
   ],
   "source": [
    "'Hello'.upper().lower()"
   ]
  },
  {
   "cell_type": "code",
   "execution_count": null,
   "id": "228f3afd",
   "metadata": {},
   "outputs": [],
   "source": [
    "8. What are the values of the following expressions?\n",
    "\n",
    "'Remember, remember, the fifth of July.'.split() --->['Remember,', 'remember,', 'the', 'fifth', 'of', 'July.']\n",
    "'-'.join('There can only one.'.split())------------->'There-can-only-one.'"
   ]
  },
  {
   "cell_type": "code",
   "execution_count": 8,
   "id": "c7df3975",
   "metadata": {},
   "outputs": [
    {
     "data": {
      "text/plain": [
       "['Remember,', 'remember,', 'the', 'fifth', 'of', 'July.']"
      ]
     },
     "execution_count": 8,
     "metadata": {},
     "output_type": "execute_result"
    }
   ],
   "source": [
    "'Remember, remember, the fifth of July.'.split()"
   ]
  },
  {
   "cell_type": "code",
   "execution_count": 11,
   "id": "012479b0",
   "metadata": {},
   "outputs": [
    {
     "data": {
      "text/plain": [
       "'There-can-only-one.'"
      ]
     },
     "execution_count": 11,
     "metadata": {},
     "output_type": "execute_result"
    }
   ],
   "source": [
    "'-'.join('There can only one.'.split())"
   ]
  },
  {
   "cell_type": "raw",
   "id": "716a5751",
   "metadata": {},
   "source": [
    "9. What are the methods for right-justifying, left-justifying, and centering a string?"
   ]
  },
  {
   "cell_type": "code",
   "execution_count": null,
   "id": "762430cc",
   "metadata": {},
   "outputs": [],
   "source": [
    "Answer : rjust(),ljust(),center() string methods"
   ]
  },
  {
   "cell_type": "code",
   "execution_count": 31,
   "id": "9939a614",
   "metadata": {},
   "outputs": [
    {
     "data": {
      "text/plain": [
       "'                                                                                         Test adjust'"
      ]
     },
     "execution_count": 31,
     "metadata": {},
     "output_type": "execute_result"
    }
   ],
   "source": [
    "Str =\"Test adjust\"\n",
    "Str.rjust(100)"
   ]
  },
  {
   "cell_type": "code",
   "execution_count": 30,
   "id": "4e5da4bd",
   "metadata": {},
   "outputs": [
    {
     "data": {
      "text/plain": [
       "'  Test adjust                                                                                       '"
      ]
     },
     "execution_count": 30,
     "metadata": {},
     "output_type": "execute_result"
    }
   ],
   "source": [
    "Str =\"  Test adjust\"\n",
    "Str.ljust(100)"
   ]
  },
  {
   "cell_type": "code",
   "execution_count": 35,
   "id": "87ee49e8",
   "metadata": {},
   "outputs": [
    {
     "data": {
      "text/plain": [
       "'                                             Test adjust                                            '"
      ]
     },
     "execution_count": 35,
     "metadata": {},
     "output_type": "execute_result"
    }
   ],
   "source": [
    "Str =\"  Test adjust\"\n",
    "Str.center(100)"
   ]
  },
  {
   "cell_type": "raw",
   "id": "d9792437",
   "metadata": {},
   "source": [
    "10. What is the best way to remove whitespace characters from the start or end?"
   ]
  },
  {
   "cell_type": "raw",
   "id": "f5153346",
   "metadata": {},
   "source": [
    "Answer:\n",
    "\n",
    "lstrip() - used for removing white spaces for start\n",
    "rstrip() - used for removing white spaces for end\n",
    "strip() - used for removing white spaces on both sides(Start & End)\n",
    "\n",
    "Examples are below:"
   ]
  },
  {
   "cell_type": "code",
   "execution_count": 32,
   "id": "4fb93f70",
   "metadata": {},
   "outputs": [
    {
     "data": {
      "text/plain": [
       "'The whitespace   '"
      ]
     },
     "execution_count": 32,
     "metadata": {},
     "output_type": "execute_result"
    }
   ],
   "source": [
    "d='    The whitespace   '\n",
    "d.lstrip()"
   ]
  },
  {
   "cell_type": "code",
   "execution_count": 33,
   "id": "b766486f",
   "metadata": {},
   "outputs": [
    {
     "data": {
      "text/plain": [
       "'    The whitespace'"
      ]
     },
     "execution_count": 33,
     "metadata": {},
     "output_type": "execute_result"
    }
   ],
   "source": [
    "d='    The whitespace   '\n",
    "d.rstrip()"
   ]
  },
  {
   "cell_type": "code",
   "execution_count": 34,
   "id": "8f3bdce3",
   "metadata": {},
   "outputs": [
    {
     "data": {
      "text/plain": [
       "'The whitespace'"
      ]
     },
     "execution_count": 34,
     "metadata": {},
     "output_type": "execute_result"
    }
   ],
   "source": [
    "d='    The whitespace   '\n",
    "d.strip()"
   ]
  }
 ],
 "metadata": {
  "kernelspec": {
   "display_name": "Python 3 (ipykernel)",
   "language": "python",
   "name": "python3"
  },
  "language_info": {
   "codemirror_mode": {
    "name": "ipython",
    "version": 3
   },
   "file_extension": ".py",
   "mimetype": "text/x-python",
   "name": "python",
   "nbconvert_exporter": "python",
   "pygments_lexer": "ipython3",
   "version": "3.9.7"
  }
 },
 "nbformat": 4,
 "nbformat_minor": 5
}
