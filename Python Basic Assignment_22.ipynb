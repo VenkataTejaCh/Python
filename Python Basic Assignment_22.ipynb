{
 "cells": [
  {
   "cell_type": "raw",
   "id": "a885baeb",
   "metadata": {},
   "source": [
    "1. What is the result of the code, and explain?\n",
    "\n",
    "X = 'iNeuron'\n",
    "def func():\n",
    "    print(X)\n",
    "\n",
    "func()"
   ]
  },
  {
   "cell_type": "raw",
   "id": "19f854e4",
   "metadata": {},
   "source": [
    "Answer:\n",
    "iNeuron\n",
    "\n",
    "X Variable is declared as 'iNeuron' and we have only print(X) in function func(). When we call func()- X value 'iNeuron' will be printed( because it is not defined in the function so it is considered Global)"
   ]
  },
  {
   "cell_type": "code",
   "execution_count": 1,
   "id": "46fa2d5f",
   "metadata": {},
   "outputs": [
    {
     "name": "stdout",
     "output_type": "stream",
     "text": [
      "iNeuron\n"
     ]
    }
   ],
   "source": [
    "X = 'iNeuron'\n",
    "def func():\n",
    "    print(X)\n",
    "\n",
    "func()"
   ]
  },
  {
   "cell_type": "raw",
   "id": "b8b7118a",
   "metadata": {},
   "source": [
    "2. What is the result of the code, and explain?\n",
    "\n",
    "X = 'iNeuron'\n",
    "def func():\n",
    "    X = 'NI!'\n",
    "\n",
    "func()\n",
    "print(X)"
   ]
  },
  {
   "cell_type": "raw",
   "id": "fb9a7771",
   "metadata": {},
   "source": [
    "Answer:\n",
    "iNeuron\n",
    "\n",
    "As in func() call - we don't have any print or return statement \n",
    "print(x) is defined after func() is called so we are getting output as only \"iNeuron\". The print statement finds the variable unchanged in the gloabal scope."
   ]
  },
  {
   "cell_type": "code",
   "execution_count": 2,
   "id": "0d452d5d",
   "metadata": {},
   "outputs": [
    {
     "name": "stdout",
     "output_type": "stream",
     "text": [
      "iNeuron\n"
     ]
    }
   ],
   "source": [
    "X = 'iNeuron'\n",
    "def func():\n",
    "    X = 'NI!'\n",
    "\n",
    "func()\n",
    "\n",
    "print(X)"
   ]
  },
  {
   "cell_type": "raw",
   "id": "c1426b9e",
   "metadata": {},
   "source": [
    "3. What does this code print, and why?\n",
    "\n",
    "X = 'iNeuron'\n",
    "def func():\n",
    "X = 'NI'\n",
    "print(X)\n",
    "\n",
    "func()\n",
    "print(X)"
   ]
  },
  {
   "cell_type": "raw",
   "id": "b086724b",
   "metadata": {},
   "source": [
    "Answer:\n",
    "NI\n",
    "iNeuron\n",
    "\n",
    "As in func()  - we defined x='NI' and we have print statement of X - we will get 'NI'\n",
    "print(x) is defined after func() is called so we are getting output as \"iNeuron\" also (reference in the print statement finds the global)"
   ]
  },
  {
   "cell_type": "code",
   "execution_count": 5,
   "id": "86f0626b",
   "metadata": {},
   "outputs": [
    {
     "name": "stdout",
     "output_type": "stream",
     "text": [
      "NI\n",
      "iNeuron\n"
     ]
    }
   ],
   "source": [
    "X = 'iNeuron'\n",
    "def func():\n",
    "    X = 'NI'\n",
    "    print(X)\n",
    "\n",
    "func()\n",
    "print(X)"
   ]
  },
  {
   "cell_type": "raw",
   "id": "faa6c9f9",
   "metadata": {},
   "source": [
    "4. What output does this code produce? Why?\n",
    "\n",
    "X = 'iNeuron'\n",
    "def func():\n",
    "global X\n",
    "X = 'NI'\n",
    "\n",
    "func()\n",
    "print(X)"
   ]
  },
  {
   "cell_type": "raw",
   "id": "dc7f39ac",
   "metadata": {},
   "source": [
    "Answer:\n",
    "NI\n",
    "\n",
    "In func()- we are defining 'X' variable as global variable and we are calling func() without any print or return statement\n",
    "As we are using print statement for X - so we are only getting 'NI' (beacause the global variable forces the assigned inside the function to referto the variable in enclosing global scope)"
   ]
  },
  {
   "cell_type": "code",
   "execution_count": 21,
   "id": "2795ac08",
   "metadata": {},
   "outputs": [
    {
     "name": "stdout",
     "output_type": "stream",
     "text": [
      "NI\n"
     ]
    }
   ],
   "source": [
    "X = 'iNeuron'\n",
    "def func():\n",
    "    global X\n",
    "    X = 'NI'\n",
    "\n",
    "func()\n",
    "print(X)"
   ]
  },
  {
   "cell_type": "raw",
   "id": "c9de220b",
   "metadata": {},
   "source": [
    "5. What about this code—what’s the output, and why?\n",
    "\n",
    "X = 'iNeuron'\n",
    "def func():\n",
    "X = 'NI'\n",
    "def nested():\n",
    "print(X)\n",
    "nested()\n",
    "\n",
    "func()\n",
    "X"
   ]
  },
  {
   "cell_type": "raw",
   "id": "ff23a338",
   "metadata": {},
   "source": [
    "Answer:\n",
    "NI\n",
    "'iNeuron'\n",
    "\n",
    "Because the print statement in the nested function finds the name in the enclosing functional local scope, and display at the end finds the variable in the global scope"
   ]
  },
  {
   "cell_type": "code",
   "execution_count": 25,
   "id": "3c866cbd",
   "metadata": {},
   "outputs": [
    {
     "name": "stdout",
     "output_type": "stream",
     "text": [
      "NI\n"
     ]
    },
    {
     "data": {
      "text/plain": [
       "'iNeuron'"
      ]
     },
     "execution_count": 25,
     "metadata": {},
     "output_type": "execute_result"
    }
   ],
   "source": [
    "X = 'iNeuron'\n",
    "def func():\n",
    "    X = 'NI'\n",
    "    def nested():\n",
    "        print(X)\n",
    "    nested()\n",
    "\n",
    "func()\n",
    "X"
   ]
  },
  {
   "cell_type": "raw",
   "id": "9dedc40f",
   "metadata": {},
   "source": [
    "6. How about this code: what is its output in Python 3, and explain?\n",
    "\n",
    "def func():\n",
    "X = 'NI'\n",
    "def nested():\n",
    "nonlocal X\n",
    "X = 'Spam'\n",
    "nested()\n",
    "print(X)\n",
    "func()"
   ]
  },
  {
   "cell_type": "raw",
   "id": "6378ffe2",
   "metadata": {},
   "source": [
    "Answer:\n",
    "Spam\n",
    "\n",
    "The assignment to X inside the nested function changes X in the enclosing functional local scope. without this statement this assignment would classify X as local to the nested function making it a different variable.\n"
   ]
  },
  {
   "cell_type": "code",
   "execution_count": 27,
   "id": "15aaa8ad",
   "metadata": {},
   "outputs": [
    {
     "name": "stdout",
     "output_type": "stream",
     "text": [
      "Spam\n"
     ]
    }
   ],
   "source": [
    "def func():\n",
    "    X = 'NI'\n",
    "    def nested():\n",
    "        nonlocal X\n",
    "        X = 'Spam'\n",
    "    nested()\n",
    "    print(X)\n",
    "func()"
   ]
  }
 ],
 "metadata": {
  "kernelspec": {
   "display_name": "Python 3 (ipykernel)",
   "language": "python",
   "name": "python3"
  },
  "language_info": {
   "codemirror_mode": {
    "name": "ipython",
    "version": 3
   },
   "file_extension": ".py",
   "mimetype": "text/x-python",
   "name": "python",
   "nbconvert_exporter": "python",
   "pygments_lexer": "ipython3",
   "version": "3.9.7"
  }
 },
 "nbformat": 4,
 "nbformat_minor": 5
}
