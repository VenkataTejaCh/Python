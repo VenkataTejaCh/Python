{
 "cells": [
  {
   "cell_type": "markdown",
   "id": "29fa78e7",
   "metadata": {},
   "source": [
    "1.\tWrite a Python program to print \"Hello Python\"?"
   ]
  },
  {
   "cell_type": "code",
   "execution_count": 7,
   "id": "d4be5053",
   "metadata": {},
   "outputs": [
    {
     "name": "stdout",
     "output_type": "stream",
     "text": [
      "\"Hello Python\"\n"
     ]
    }
   ],
   "source": [
    "print('\"Hello Python\"')"
   ]
  },
  {
   "cell_type": "markdown",
   "id": "0bf9f94d",
   "metadata": {},
   "source": [
    "2. Write a Python program to do arithmetical operations addition and division.?"
   ]
  },
  {
   "cell_type": "code",
   "execution_count": 12,
   "id": "6da9342c",
   "metadata": {},
   "outputs": [
    {
     "name": "stdout",
     "output_type": "stream",
     "text": [
      "1\n",
      "1\n",
      "Addition of a & b is 2\n",
      "Division of a/b is 0.5\n"
     ]
    }
   ],
   "source": [
    "a=int(input())\n",
    "b=int(input())\n",
    "c=a+b\n",
    "print(\"Addition of a & b is\", c)\n",
    "d=a/c\n",
    "print(\"Division of a/b is\", d)"
   ]
  },
  {
   "cell_type": "markdown",
   "id": "1050706f",
   "metadata": {},
   "source": [
    "3.\tWrite a Python program to find the area of a triangle?"
   ]
  },
  {
   "cell_type": "code",
   "execution_count": 32,
   "id": "fd1c8a82",
   "metadata": {},
   "outputs": [
    {
     "name": "stdout",
     "output_type": "stream",
     "text": [
      "12\n",
      "15\n",
      "Area of a Traingle is 90.0\n"
     ]
    }
   ],
   "source": [
    "base=int(input())\n",
    "height=int(input())\n",
    "Area=0.5*base*height\n",
    "print(\"Area of a Traingle is\", Area)"
   ]
  },
  {
   "cell_type": "markdown",
   "id": "eb15613c",
   "metadata": {},
   "source": [
    "4.\tWrite a Python program to swap two variables?"
   ]
  },
  {
   "cell_type": "code",
   "execution_count": 31,
   "id": "3a7a56e2",
   "metadata": {
    "scrolled": true
   },
   "outputs": [
    {
     "name": "stdout",
     "output_type": "stream",
     "text": [
      "12\n",
      "13\n",
      "a value before swaping is:12\n",
      "b value before swaping is:13\n",
      "a value after swapping is:13\n",
      "b value after swapping is:12\n"
     ]
    }
   ],
   "source": [
    "a=input()\n",
    "b=input()\n",
    "print(\"a value before swaping is:{}\".format(a))\n",
    "print(\"b value before swaping is:{}\".format(b))\n",
    "\n",
    "temp=a\n",
    "a=b\n",
    "b=temp\n",
    "print(\"a value after swapping is:{}\".format(a))\n",
    "print(\"b value after swapping is:{}\".format(b))"
   ]
  },
  {
   "cell_type": "markdown",
   "id": "110dfe3a",
   "metadata": {},
   "source": [
    "5.\tWrite a Python program to generate a random number?"
   ]
  },
  {
   "cell_type": "code",
   "execution_count": 19,
   "id": "4c51f85a",
   "metadata": {},
   "outputs": [
    {
     "name": "stdout",
     "output_type": "stream",
     "text": [
      "140\n"
     ]
    }
   ],
   "source": [
    "import random\n",
    "n = random. randint(0,200)\n",
    "print(n)"
   ]
  }
 ],
 "metadata": {
  "kernelspec": {
   "display_name": "Python 3 (ipykernel)",
   "language": "python",
   "name": "python3"
  },
  "language_info": {
   "codemirror_mode": {
    "name": "ipython",
    "version": 3
   },
   "file_extension": ".py",
   "mimetype": "text/x-python",
   "name": "python",
   "nbconvert_exporter": "python",
   "pygments_lexer": "ipython3",
   "version": "3.9.7"
  }
 },
 "nbformat": 4,
 "nbformat_minor": 5
}
