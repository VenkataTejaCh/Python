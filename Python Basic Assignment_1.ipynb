{
 "cells": [
  {
   "cell_type": "raw",
   "id": "67f22e7b",
   "metadata": {},
   "source": [
    "1. In the below elements which of them are values or an expression? eg:- values can be integer or string and expressions will be mathematical operators.\n",
    "\n",
    "*        - Expression\n",
    "'hello'  - Value\n",
    "-87.8    - Value\n",
    "-        - Expression\n",
    "/        - Expression\n",
    "+\t     - Expression\n",
    "6        - Value\n"
   ]
  },
  {
   "cell_type": "raw",
   "id": "379cef1f",
   "metadata": {},
   "source": [
    "2. What is the difference between string and variable?\n",
    "\n",
    "A string is the values inside the quotes assigned to a string.strings are a type of variable.strings can be defined by using single quotes or double quotes or triple quotes.\n",
    "Example: \"Test\", 'Test'\n",
    "\n",
    "A variable is a temporary storage space where we can keep changing the values. A variable can store everything from strings to numbers.variables are case sensetive. Special keywords can not be used as a variables.\n",
    "\n",
    "example: a, string"
   ]
  },
  {
   "cell_type": "raw",
   "id": "b49bbbe4",
   "metadata": {},
   "source": [
    "3. Describe three different data types.\n",
    "\n",
    "String - A string is a collection of one or more characters put in a single quote, double-quote or triple quote. In python there is no character data type, a character is a string of length one. It is represented by str class. String data type is Immutable.\n",
    "\n",
    "Integer - This value is represented by int class. It contains positive or negative whole numbers (without fraction or decimal). In Python there is no limit to how long an integer value can be.\n",
    "Example: -89, 50\n",
    "\n",
    "Float-  This value is represented by float class. It is a real number with floating point representation. It is specified by a decimal point.\n",
    "Example: 1.5"
   ]
  },
  {
   "cell_type": "raw",
   "id": "6c4560d5",
   "metadata": {},
   "source": [
    "4. What is an expression made up of? What do all expressions do?\n",
    "\n",
    "An expression is a combination of values, variables, operators, and calls to functions. \n",
    "\n",
    "expression example: a=12*b+12\n",
    "\n",
    "Expressions need to be evaluated."
   ]
  },
  {
   "cell_type": "raw",
   "id": "8c23027d",
   "metadata": {},
   "source": [
    "5. This assignment statements, like spam = 10. What is the difference between an expression and a statement?\n",
    "\n",
    "An expression evaluates to a single value. A statement does not."
   ]
  },
  {
   "cell_type": "raw",
   "id": "05cd9a62",
   "metadata": {},
   "source": [
    "6. After running the following code, what does the variable bacon contain?\n",
    "bacon = 22\n",
    "bacon + 1\n",
    "\n",
    "bacon=23"
   ]
  },
  {
   "cell_type": "raw",
   "id": "63b47bff",
   "metadata": {},
   "source": [
    "7. What should the values of the following two terms be?\n",
    "\n",
    "'spam' + 'spamspam' = 'spamspamspam'\n",
    "'spam' * 3 = 'spamspamspam'\n"
   ]
  },
  {
   "cell_type": "raw",
   "id": "ade547cd",
   "metadata": {},
   "source": [
    "8. Why is eggs a valid variable name while 100 is invalid?\n",
    "\n",
    "Variable names cannot start with Numbers"
   ]
  },
  {
   "cell_type": "raw",
   "id": "13d9b8ce",
   "metadata": {},
   "source": [
    "9. What three functions can be used to get the integer, floating-point number, or string version of a value?\n",
    "\n",
    "The int(), float(), and str() functions will evaluate to the integer, floating-point number, and string versions of the value passed to them"
   ]
  },
  {
   "cell_type": "raw",
   "id": "360d76e6",
   "metadata": {},
   "source": [
    "10. Why does this expression cause an error? How can you fix it?\n",
    "'I have eaten ' + 99 + ' burritos.'\n",
    "\n",
    "As we are doing string concatination we have to convert integer into string.\n",
    "we can do it by 3 ways:\n",
    "Using single quotes: 'I have eaten ' + '99' + ' burritos.'\n",
    "Using double quotes: 'I have eaten ' + \"99\" + ' burritos.'\n",
    "Using string type casting: 'I have eaten ' + str(99) + ' burritos.'\n"
   ]
  }
 ],
 "metadata": {
  "kernelspec": {
   "display_name": "Python 3 (ipykernel)",
   "language": "python",
   "name": "python3"
  },
  "language_info": {
   "codemirror_mode": {
    "name": "ipython",
    "version": 3
   },
   "file_extension": ".py",
   "mimetype": "text/x-python",
   "name": "python",
   "nbconvert_exporter": "python",
   "pygments_lexer": "ipython3",
   "version": "3.9.7"
  }
 },
 "nbformat": 4,
 "nbformat_minor": 5
}
