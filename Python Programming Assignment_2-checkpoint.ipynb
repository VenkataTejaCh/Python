{
 "cells": [
  {
   "cell_type": "markdown",
   "id": "ff35943a",
   "metadata": {},
   "source": [
    "1.\tWrite a Python program to convert kilometers to miles?"
   ]
  },
  {
   "cell_type": "code",
   "execution_count": 3,
   "id": "f654c10b",
   "metadata": {},
   "outputs": [
    {
     "name": "stdout",
     "output_type": "stream",
     "text": [
      "Enter Kimometers:12\n",
      "No of Miles for given Kilometers are: 7.4564520000000005\n"
     ]
    }
   ],
   "source": [
    "# 1km = 0.621371 Mile\n",
    "\n",
    "Miles=0.621371*(int(input(\"Enter Kimometers:\")))\n",
    "print(\"No of Miles for given Kilometers are:\", Miles)"
   ]
  },
  {
   "cell_type": "markdown",
   "id": "87037189",
   "metadata": {},
   "source": [
    "2.\tWrite a Python program to convert Celsius to Fahrenheit?"
   ]
  },
  {
   "cell_type": "code",
   "execution_count": 4,
   "id": "efc6b957",
   "metadata": {},
   "outputs": [
    {
     "name": "stdout",
     "output_type": "stream",
     "text": [
      "Enter Celsius:20\n",
      "Fahrenheit temperature for entered Celsius is 68.0\n"
     ]
    }
   ],
   "source": [
    "# (°C × 9/5) + 32 = °F\n",
    "\n",
    "Celsius = int(input(\"Enter Celsius:\"))\n",
    "Fahrenheit = ((Celsius)*(9/5))+32\n",
    "print(\"Fahrenheit temperature for entered Celsius is\", Fahrenheit)"
   ]
  },
  {
   "cell_type": "markdown",
   "id": "f593c7bf",
   "metadata": {},
   "source": [
    "3.\tWrite a Python program to display calendar?"
   ]
  },
  {
   "cell_type": "code",
   "execution_count": null,
   "id": "1ef452d9",
   "metadata": {},
   "outputs": [],
   "source": [
    "import calendar\n",
    "\n",
    "year = int(input(\"ENTER CALENDAR YEAR:\"))\n",
    "\n",
    "print(calendar.calendar(year))"
   ]
  },
  {
   "cell_type": "markdown",
   "id": "225cc75d",
   "metadata": {},
   "source": [
    "4.\tWrite a Python program to solve quadratic equation?"
   ]
  },
  {
   "cell_type": "code",
   "execution_count": 28,
   "id": "a1070d2a",
   "metadata": {},
   "outputs": [
    {
     "name": "stdout",
     "output_type": "stream",
     "text": [
      "Enter a value of Quadratic Expression:3\n",
      "Enter b value of Quadratic Expression:5\n",
      "Enter c value of Quadratic Expression:-7\n",
      "Two Possible values of x are: 0.9067177514850918 -2.5733844181517584\n"
     ]
    }
   ],
   "source": [
    "# Quadratic Equation in Standard Form: ax2 + bx + c = 0 \n",
    "# two possible values of x are [-b + √(b² - 4ac)]/2a, and [-b - √(b² - 4ac)]/2a\n",
    "\n",
    "a=int(input(\"Enter a value of Quadratic Expression:\"))\n",
    "b=int(input(\"Enter b value of Quadratic Expression:\"))\n",
    "c=int(input(\"Enter c value of Quadratic Expression:\"))\n",
    "x1=((-b+(b**2-4*a*c)**(1/2))/(2*a))\n",
    "x2=((-b-(b**2-4*a*c)**(1/2))/(2*a))\n",
    "print(\"Two Possible values of x are:\", x1, x2)"
   ]
  },
  {
   "cell_type": "markdown",
   "id": "f4b9424b",
   "metadata": {},
   "source": [
    "5.\tWrite a Python program to swap two variables without temp variable?"
   ]
  },
  {
   "cell_type": "code",
   "execution_count": 7,
   "id": "2d8e7a0e",
   "metadata": {},
   "outputs": [
    {
     "name": "stdout",
     "output_type": "stream",
     "text": [
      "2\n",
      "3\n",
      "Before swapping: \n",
      "Value of x :  2  and y :  3\n",
      "After swapping: \n",
      "Value of x :  3  and y :  2\n"
     ]
    }
   ],
   "source": [
    "x = input()\n",
    "y = input()\n",
    " \n",
    "print (\"Before swapping: \")\n",
    "print(\"Value of x : \", x, \" and y : \", y)\n",
    " \n",
    "x, y = y, x\n",
    " \n",
    "print (\"After swapping: \")\n",
    "print(\"Value of x : \", x, \" and y : \", y)"
   ]
  },
  {
   "cell_type": "code",
   "execution_count": null,
   "id": "702691e1",
   "metadata": {},
   "outputs": [],
   "source": []
  }
 ],
 "metadata": {
  "kernelspec": {
   "display_name": "Python 3 (ipykernel)",
   "language": "python",
   "name": "python3"
  },
  "language_info": {
   "codemirror_mode": {
    "name": "ipython",
    "version": 3
   },
   "file_extension": ".py",
   "mimetype": "text/x-python",
   "name": "python",
   "nbconvert_exporter": "python",
   "pygments_lexer": "ipython3",
   "version": "3.9.7"
  }
 },
 "nbformat": 4,
 "nbformat_minor": 5
}
