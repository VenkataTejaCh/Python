{
 "cells": [
  {
   "cell_type": "raw",
   "id": "d2bad438",
   "metadata": {},
   "source": [
    "1. What exactly is []?"
   ]
  },
  {
   "cell_type": "raw",
   "id": "b9bfbc13",
   "metadata": {},
   "source": [
    "Answer:\n",
    "    [] is an empty list. \n",
    "    Example: l is variable having empty list\n",
    "    l =[]\n",
    "    \n",
    "    Generally list is created by placing elements inside square brackets [] , separated by commas. A list can have any number of items and they may be of different types (integer, float, string, etc.). \n",
    "    "
   ]
  },
  {
   "cell_type": "raw",
   "id": "7969b1ba",
   "metadata": {},
   "source": [
    "2. In a list of values stored in a variable called spam, how would you assign the value 'hello' as the third value? (Assume [2, 4, 6, 8, 10] are in spam.)\n",
    "\n",
    "Answer: spam[2]= \"hello\" --> using index - As list is iterable and Mutable datatype\n"
   ]
  },
  {
   "cell_type": "code",
   "execution_count": 1,
   "id": "23dfdbe8",
   "metadata": {},
   "outputs": [
    {
     "name": "stdout",
     "output_type": "stream",
     "text": [
      "[2, 4, 6, 8, 10]\n",
      "[2, 4, 'hello', 8, 10]\n"
     ]
    }
   ],
   "source": [
    "spam=[2,4,6,8,10]\n",
    "print(spam)\n",
    "spam[2]=\"hello\"\n",
    "print(spam)"
   ]
  },
  {
   "cell_type": "raw",
   "id": "692d8814",
   "metadata": {},
   "source": [
    "Let's pretend the spam includes the list ['a', 'b', 'c', 'd'] for the next three queries."
   ]
  },
  {
   "cell_type": "raw",
   "id": "059208dc",
   "metadata": {},
   "source": [
    "3. What is the value of spam[int(int('3' * 2) / 11)]?\n",
    "Ans: 'd' --> string multiplication '3'*2= '33' --> int('33')/11= 3-->spam[3]"
   ]
  },
  {
   "cell_type": "code",
   "execution_count": 2,
   "id": "db9281f1",
   "metadata": {},
   "outputs": [
    {
     "data": {
      "text/plain": [
       "'d'"
      ]
     },
     "execution_count": 2,
     "metadata": {},
     "output_type": "execute_result"
    }
   ],
   "source": [
    "spam=['a','b','c','d']\n",
    "spam[int(int('3'*2)/11)]"
   ]
  },
  {
   "cell_type": "raw",
   "id": "dbcdce26",
   "metadata": {},
   "source": [
    "4. What is the value of spam[-1]?\n",
    "\n",
    "Answer: spam[-1] is the last element from the list = 'd'"
   ]
  },
  {
   "cell_type": "code",
   "execution_count": 3,
   "id": "a8c69fe7",
   "metadata": {},
   "outputs": [
    {
     "data": {
      "text/plain": [
       "'d'"
      ]
     },
     "execution_count": 3,
     "metadata": {},
     "output_type": "execute_result"
    }
   ],
   "source": [
    "spam=['a','b','c','d']\n",
    "spam[-1]"
   ]
  },
  {
   "cell_type": "raw",
   "id": "5b8a6963",
   "metadata": {},
   "source": [
    "5. What is the value of spam[:2]?\n",
    "Answer: ['a','b'] - start index is 0, End index is 2, by default step value is 1"
   ]
  },
  {
   "cell_type": "code",
   "execution_count": 4,
   "id": "3850ac10",
   "metadata": {},
   "outputs": [
    {
     "data": {
      "text/plain": [
       "['a', 'b']"
      ]
     },
     "execution_count": 4,
     "metadata": {},
     "output_type": "execute_result"
    }
   ],
   "source": [
    "spam=['a','b','c','d']\n",
    "spam[:2]"
   ]
  },
  {
   "cell_type": "raw",
   "id": "1c956e92",
   "metadata": {},
   "source": [
    "Let's pretend bacon has the list [3.14, 'cat,' 11, 'cat,' True] for the next three questions."
   ]
  },
  {
   "cell_type": "raw",
   "id": "b5351ca4",
   "metadata": {},
   "source": [
    "6. What is the value of bacon.index('cat')?\n",
    "Answer: 1"
   ]
  },
  {
   "cell_type": "code",
   "execution_count": 9,
   "id": "37f35d8a",
   "metadata": {},
   "outputs": [
    {
     "data": {
      "text/plain": [
       "1"
      ]
     },
     "execution_count": 9,
     "metadata": {},
     "output_type": "execute_result"
    }
   ],
   "source": [
    "# Given list is having invalid syntax- 'cat,' (, is placed inside the single quote) \n",
    "\n",
    "bacon= [3.14, 'cat', 11, 'cat', True]\n",
    "bacon.index('cat')"
   ]
  },
  {
   "cell_type": "raw",
   "id": "00b89902",
   "metadata": {},
   "source": [
    "7. How does bacon.append(99) change the look of the list value in bacon?\n",
    "Answer: [3.14,'cat',11,'cat',True,99] - 99 get added to the end of the list"
   ]
  },
  {
   "cell_type": "code",
   "execution_count": 10,
   "id": "e1713ea3",
   "metadata": {},
   "outputs": [
    {
     "data": {
      "text/plain": [
       "[3.14, 'cat', 11, 'cat', True, 99]"
      ]
     },
     "execution_count": 10,
     "metadata": {},
     "output_type": "execute_result"
    }
   ],
   "source": [
    "bacon= [3.14, 'cat', 11, 'cat', True]\n",
    "bacon.append(99)\n",
    "bacon"
   ]
  },
  {
   "cell_type": "raw",
   "id": "a03d3db7",
   "metadata": {},
   "source": [
    "8. How does bacon.remove('cat') change the look of the list in bacon?\n",
    "Answer: [3.14, 11, 'cat', True] - First 'cat' appeared in the index will get removed"
   ]
  },
  {
   "cell_type": "code",
   "execution_count": 11,
   "id": "a2015808",
   "metadata": {},
   "outputs": [
    {
     "data": {
      "text/plain": [
       "[3.14, 11, 'cat', True]"
      ]
     },
     "execution_count": 11,
     "metadata": {},
     "output_type": "execute_result"
    }
   ],
   "source": [
    "bacon= [3.14, 'cat', 11, 'cat', True]\n",
    "bacon.remove('cat')\n",
    "bacon"
   ]
  },
  {
   "cell_type": "raw",
   "id": "16f504b9",
   "metadata": {},
   "source": [
    "9. What are the list concatenation and list replication operators?\n"
   ]
  },
  {
   "cell_type": "raw",
   "id": "eb09d738",
   "metadata": {},
   "source": [
    "Answer:\n",
    "    The operator for list concatenation is +, while the operator for replication is *. (This is the same as for strings.)"
   ]
  },
  {
   "cell_type": "raw",
   "id": "46489dac",
   "metadata": {},
   "source": [
    "10. What is difference between the list methods append() and insert()?\n",
    "\n",
    "Answer:\n",
    "Append: Append is the built-in-function. Append will add object at the end of the list\n",
    "Insert: Insert is also a built-in-function. Insert will add object before the index specified."
   ]
  },
  {
   "cell_type": "code",
   "execution_count": 17,
   "id": "62bbd5ca",
   "metadata": {},
   "outputs": [
    {
     "data": {
      "text/plain": [
       "[1, 2, 3, 4, 5]"
      ]
     },
     "execution_count": 17,
     "metadata": {},
     "output_type": "execute_result"
    }
   ],
   "source": [
    "l=[1,2,3,4]\n",
    "l.append(5)\n",
    "l"
   ]
  },
  {
   "cell_type": "code",
   "execution_count": 21,
   "id": "aa58fd58",
   "metadata": {},
   "outputs": [
    {
     "data": {
      "text/plain": [
       "[1, 2, 3, 4, 5]"
      ]
     },
     "execution_count": 21,
     "metadata": {},
     "output_type": "execute_result"
    }
   ],
   "source": [
    "l=[1,2,3,4]\n",
    "l.insert(4,5)\n",
    "l"
   ]
  },
  {
   "cell_type": "raw",
   "id": "ca389a97",
   "metadata": {},
   "source": [
    "11. What are the two methods for removing items from a list?\n",
    "\n",
    "Answer: we can Use del to remove an element by index, pop() to remove it by index if you need the returned value, and remove() to delete an element by value."
   ]
  },
  {
   "cell_type": "code",
   "execution_count": 27,
   "id": "a14baa41",
   "metadata": {},
   "outputs": [
    {
     "data": {
      "text/plain": [
       "[1, 2, 3, 4]"
      ]
     },
     "execution_count": 27,
     "metadata": {},
     "output_type": "execute_result"
    }
   ],
   "source": [
    "l=[1,2,3,4,5]\n",
    "del l[4]\n",
    "l"
   ]
  },
  {
   "cell_type": "code",
   "execution_count": 23,
   "id": "af9b9785",
   "metadata": {},
   "outputs": [
    {
     "data": {
      "text/plain": [
       "[1, 2, 3, 4]"
      ]
     },
     "execution_count": 23,
     "metadata": {},
     "output_type": "execute_result"
    }
   ],
   "source": [
    "l=[1,2,3,4,5]\n",
    "l.pop()\n",
    "l"
   ]
  },
  {
   "cell_type": "code",
   "execution_count": 25,
   "id": "6bc364a3",
   "metadata": {},
   "outputs": [
    {
     "data": {
      "text/plain": [
       "[1, 2, 3, 4]"
      ]
     },
     "execution_count": 25,
     "metadata": {},
     "output_type": "execute_result"
    }
   ],
   "source": [
    "l=[1,2,3,4,5]\n",
    "l.remove(5)\n",
    "l"
   ]
  },
  {
   "cell_type": "raw",
   "id": "ed68e68e",
   "metadata": {},
   "source": [
    "12. Describe how list values and string values are identical.\n"
   ]
  },
  {
   "cell_type": "raw",
   "id": "05f25ec7",
   "metadata": {},
   "source": [
    "Both lists and strings can be passed to len(), have indexes and slices, be used in for loops, be concatenated or replicated, and be used with the in and not in operators."
   ]
  },
  {
   "cell_type": "raw",
   "id": "4b84db1d",
   "metadata": {},
   "source": [
    "13. What's the difference between tuples and lists?\n",
    "\n"
   ]
  },
  {
   "cell_type": "raw",
   "id": "2c2312e8",
   "metadata": {},
   "source": [
    "Answer:\n",
    "    \n",
    "list:                                                  vs                             tuple:\n",
    "Items surrounded in square brackets []           \t                           Items surrounded in round brackets ()\n",
    "Lists are mutable in Nature\t                                                   Tuples are immutable in nature\n",
    "if content is not fixed , and keeps on changing then we should fo for lists\t   if content is fixed , and never changes  then we                                                                                should go for tuple\n",
    "\n",
    "list objects cannot be used as a key for dictionaries because keys should be hash table and immutable\t\n",
    "tuple objects can be used as a key for dictionaries because keys should be hash table and immutable\n",
    "\n",
    "\n",
    "    "
   ]
  },
  {
   "cell_type": "raw",
   "id": "7ed2de2b",
   "metadata": {},
   "source": [
    "14. How do you type a tuple value that only contains the integer 42?\n",
    "\n",
    "Answer :\n",
    "\n",
    "t=42, \n",
    "\n",
    "or \n",
    "\n",
    "t=(42,)\n"
   ]
  },
  {
   "cell_type": "code",
   "execution_count": 31,
   "id": "f354ca9c",
   "metadata": {},
   "outputs": [
    {
     "name": "stdout",
     "output_type": "stream",
     "text": [
      "(42,)\n"
     ]
    },
    {
     "data": {
      "text/plain": [
       "tuple"
      ]
     },
     "execution_count": 31,
     "metadata": {},
     "output_type": "execute_result"
    }
   ],
   "source": [
    "t=42,\n",
    "t\n",
    "print(t)\n",
    "type(t)"
   ]
  },
  {
   "cell_type": "code",
   "execution_count": 32,
   "id": "b3fb3568",
   "metadata": {},
   "outputs": [
    {
     "data": {
      "text/plain": [
       "(42,)"
      ]
     },
     "execution_count": 32,
     "metadata": {},
     "output_type": "execute_result"
    }
   ],
   "source": [
    "t=(42,)\n",
    "t"
   ]
  },
  {
   "cell_type": "raw",
   "id": "33ddddb1",
   "metadata": {},
   "source": [
    "15. How do you get a list value's tuple form? How do you get a tuple value's list form?\n",
    "Answer:\n",
    "we can convert list value's to tuple by using tuple(variable contains list) and tuple value's to list by list(variable contains tuple)- tuple and list functions\n",
    "Examples below:"
   ]
  },
  {
   "cell_type": "code",
   "execution_count": 35,
   "id": "097de3c6",
   "metadata": {},
   "outputs": [
    {
     "data": {
      "text/plain": [
       "(1, 2, 3, 4)"
      ]
     },
     "execution_count": 35,
     "metadata": {},
     "output_type": "execute_result"
    }
   ],
   "source": [
    "l=[1,2,3,4]\n",
    "tuple(l)\n",
    "l1=tuple(l)\n",
    "l1"
   ]
  },
  {
   "cell_type": "code",
   "execution_count": 36,
   "id": "3eeafcc3",
   "metadata": {},
   "outputs": [
    {
     "data": {
      "text/plain": [
       "[1, 2, 3, 4]"
      ]
     },
     "execution_count": 36,
     "metadata": {},
     "output_type": "execute_result"
    }
   ],
   "source": [
    "t=(1,2,3,4)\n",
    "list(l)\n",
    "t1=list(l)\n",
    "t1"
   ]
  },
  {
   "cell_type": "raw",
   "id": "f8ec4445",
   "metadata": {},
   "source": [
    "16. Variables that \"contain\" list values are not necessarily lists themselves. Instead, what do they contain?\n"
   ]
  },
  {
   "cell_type": "raw",
   "id": "10985e86",
   "metadata": {},
   "source": [
    "Answer:\n",
    "\n",
    "They contain references to list values."
   ]
  },
  {
   "cell_type": "raw",
   "id": "65d4c103",
   "metadata": {},
   "source": [
    "17. How do you distinguish between copy.copy() and copy.deepcopy()?"
   ]
  },
  {
   "cell_type": "raw",
   "id": "d7971c33",
   "metadata": {},
   "source": [
    "Answer:\n",
    "The copy.copy() function will do a shallow copy of a list, while the copy.deepcopy() function will do a deep copy of a list. That is, only copy.deepcopy() will duplicate any lists inside the list."
   ]
  }
 ],
 "metadata": {
  "kernelspec": {
   "display_name": "Python 3 (ipykernel)",
   "language": "python",
   "name": "python3"
  },
  "language_info": {
   "codemirror_mode": {
    "name": "ipython",
    "version": 3
   },
   "file_extension": ".py",
   "mimetype": "text/x-python",
   "name": "python",
   "nbconvert_exporter": "python",
   "pygments_lexer": "ipython3",
   "version": "3.9.7"
  }
 },
 "nbformat": 4,
 "nbformat_minor": 5
}
