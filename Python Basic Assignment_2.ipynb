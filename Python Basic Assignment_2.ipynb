{
 "cells": [
  {
   "cell_type": "raw",
   "id": "e6607b7c",
   "metadata": {},
   "source": [
    "1.What are the two values of the Boolean data type? How do you write them?\n",
    "\n",
    "Answer:\n",
    "\n",
    "True and False are two values of the Boolean dat type.\n",
    "\n",
    "we used to write as below:(First letter should be Capital.)\n",
    "\n",
    "True\n",
    "False"
   ]
  },
  {
   "cell_type": "raw",
   "id": "ae3e47a3",
   "metadata": {},
   "source": [
    "2. What are the three different types of Boolean operators?\n",
    "\n",
    "Answer: and, or, not are three different types of Boolean operators\n"
   ]
  },
  {
   "cell_type": "raw",
   "id": "b99230e4",
   "metadata": {},
   "source": [
    "3. Make a list of each Boolean operator's truth tables (i.e. every possible combination of Boolean values for the operator and what it evaluate ).\n",
    "\n",
    "Answer:\n",
    "\n",
    " A\t      B\t   A and B\tnot A and B\n",
    "TRUE\tTRUE\tTRUE\tFALSE\n",
    "FALSE\tTRUE\tFALSE\tTRUE\n",
    "TRUE\tFALSE\tFALSE\tTRUE\n",
    "FALSE\tFALSE\tFALSE\tTRUE\n",
    "\n",
    "\n",
    "  A\t     B\t    A or B\tnot A or B\n",
    "TRUE\tTRUE\tTRUE\tFALSE\n",
    "FALSE\tTRUE\tTRUE\tFALSE\n",
    "TRUE\tFALSE\tTRUE\tFALSE\n",
    "FALSE\tFALSE\tFALSE\tTRUE\n",
    "\n",
    "not False is True\n",
    "not True is False\n"
   ]
  },
  {
   "cell_type": "raw",
   "id": "5518f4a8",
   "metadata": {},
   "source": [
    "4. What are the values of the following expressions?\n",
    "\n",
    "(5 > 4) and (3 == 5)           -      False\n",
    "not (5 > 4)                    -      False\n",
    "(5 > 4) or (3 == 5)            -      True\n",
    "not ((5 > 4) or (3 == 5))      -      False\n",
    "(True and True) and (True == False) - False\n",
    "(not False) or (not True)      -      True\n"
   ]
  },
  {
   "cell_type": "raw",
   "id": "4a661aa2",
   "metadata": {},
   "source": [
    "5. What are the six comparison operators?\n",
    "\n",
    "Answer:\n",
    "\n",
    "Less than ( < )\n",
    "Less than or equal to ( <= )\n",
    "Greater than ( > )\n",
    "Greater than or equal to ( >= )\n",
    "Equal to ( == )\n",
    "Not equal to ( != )"
   ]
  },
  {
   "cell_type": "raw",
   "id": "25df0ada",
   "metadata": {},
   "source": [
    "6. How do you tell the difference between the equal to and assignment operators?Describe a condition and when you would use one.\n",
    "\n",
    "Answer:\n",
    "\n",
    "    Assignment operator(=) is generally used for assigning a value to a variable.\n",
    "    example: a=10\n",
    "    But equal to(==) is used while comparision of 2 values\n",
    "    example: a==10\n"
   ]
  },
  {
   "cell_type": "code",
   "execution_count": 45,
   "id": "2165175d",
   "metadata": {},
   "outputs": [
    {
     "name": "stdout",
     "output_type": "stream",
     "text": [
      "Both values are Equal\n"
     ]
    }
   ],
   "source": [
    "i=10 #(Here assigning a value of 10 to a variable 'i')\n",
    "if i==10: #(Here comparision of variable i with the given integer 10)\n",
    "    print(\"Both values are Equal\")"
   ]
  },
  {
   "cell_type": "raw",
   "id": "8072648d",
   "metadata": {},
   "source": [
    "7. Identify the three blocks in this code:\n",
    "\n",
    "\n",
    "spam = 0\n",
    "if spam == 10: #1st Block in if statement\n",
    "print('eggs')\n",
    "\n",
    "\n",
    "\n",
    "if spam > 5:  #2nd Block in if statement\n",
    "print('bacon')\n",
    "\n",
    "\n",
    "else:        #3rd Block \n",
    "print('ham')\n",
    "print('spam')\n",
    "print('spam')\n"
   ]
  },
  {
   "cell_type": "raw",
   "id": "2b7e511b",
   "metadata": {},
   "source": [
    "8. Write code that prints Hello if 1 is stored in spam, prints Howdy if 2 is stored in spam, and prints Greetings! if anything else is stored in spam."
   ]
  },
  {
   "cell_type": "code",
   "execution_count": 5,
   "id": "05ec9f33",
   "metadata": {},
   "outputs": [
    {
     "name": "stdout",
     "output_type": "stream",
     "text": [
      "0\n",
      "Greetings!\n"
     ]
    }
   ],
   "source": [
    "spam =int(input())\n",
    "if spam ==1:\n",
    "    print(\"Hello\")\n",
    "elif spam ==2:\n",
    "    print(\"Howdy\")\n",
    "else:\n",
    "    print(\"Greetings!\")"
   ]
  },
  {
   "cell_type": "raw",
   "id": "3d46fd2a",
   "metadata": {},
   "source": [
    "9.If your programme is stuck in an endless loop, what keys you’ll press?\n",
    "\n",
    "Answer:\n",
    "CTRL - C\n",
    "In pycharm it is CTRL +F2(Function Key)"
   ]
  },
  {
   "cell_type": "code",
   "execution_count": null,
   "id": "f72853ed",
   "metadata": {},
   "outputs": [],
   "source": [
    "i=0\n",
    "while i<=0:\n",
    "    print(\"I run Always\")\n",
    "    "
   ]
  },
  {
   "cell_type": "raw",
   "id": "39d60e08",
   "metadata": {},
   "source": [
    "10. How can you tell the difference between break and continue?\n",
    "\n",
    "Answer:\n",
    "Break statement comes out of the loop when criteria is satisfied . \n",
    "Continue statement skips a single iteration in a loop or give control to the loop once criteria is satisfied and continues.\n",
    "Exaples are below:"
   ]
  },
  {
   "cell_type": "code",
   "execution_count": 40,
   "id": "605605ae",
   "metadata": {},
   "outputs": [
    {
     "name": "stdout",
     "output_type": "stream",
     "text": [
      "s\n"
     ]
    }
   ],
   "source": [
    "s=\"sudh\"\n",
    "for i in s:\n",
    "    if i=='u':\n",
    "        break\n",
    "    print(i)"
   ]
  },
  {
   "cell_type": "code",
   "execution_count": 41,
   "id": "2ee22ea3",
   "metadata": {},
   "outputs": [
    {
     "name": "stdout",
     "output_type": "stream",
     "text": [
      "s\n",
      "d\n",
      "h\n"
     ]
    }
   ],
   "source": [
    "s=\"sudh\"\n",
    "for i in s:\n",
    "    if i==\"u\":\n",
    "        continue\n",
    "    print(i)"
   ]
  },
  {
   "cell_type": "raw",
   "id": "582736eb",
   "metadata": {},
   "source": [
    "11. In a for loop, what is the difference between range(10), range(0, 10), and range(0, 10, 1)?\n",
    "\n",
    "Answer:\n",
    "range(10) - In this format of range in for loop, it gives the values from 0 to 9(i.e n-1)\n",
    "range(0,10)- In this format of range in for loop, this gives start and end index \n",
    "range(0,10,1)- In this format of range in for loop- start index, end index and step or jump values are specified in this format.\n",
    "Examples are given below:"
   ]
  },
  {
   "cell_type": "code",
   "execution_count": 30,
   "id": "2dd74d13",
   "metadata": {},
   "outputs": [
    {
     "name": "stdout",
     "output_type": "stream",
     "text": [
      "0\n",
      "1\n",
      "2\n",
      "3\n",
      "4\n",
      "5\n",
      "6\n",
      "7\n",
      "8\n",
      "9\n"
     ]
    }
   ],
   "source": [
    "for i in range(10):\n",
    "    print(i)"
   ]
  },
  {
   "cell_type": "code",
   "execution_count": 58,
   "id": "d193c007",
   "metadata": {},
   "outputs": [
    {
     "name": "stdout",
     "output_type": "stream",
     "text": [
      "0\n",
      "1\n",
      "2\n",
      "3\n",
      "4\n"
     ]
    }
   ],
   "source": [
    "for i in range(0,5):\n",
    "    print(i)"
   ]
  },
  {
   "cell_type": "code",
   "execution_count": 59,
   "id": "4ccee42e",
   "metadata": {},
   "outputs": [
    {
     "name": "stdout",
     "output_type": "stream",
     "text": [
      "0\n",
      "2\n",
      "4\n",
      "6\n",
      "8\n"
     ]
    }
   ],
   "source": [
    "for i in range(0,10,2):\n",
    "    print(i)"
   ]
  },
  {
   "cell_type": "raw",
   "id": "dbd19fde",
   "metadata": {},
   "source": [
    "#12. Write a short program that prints the numbers 1 to 10 using a for loop. Then write an equivalent program that prints the numbers 1 to 10 using a while loop."
   ]
  },
  {
   "cell_type": "code",
   "execution_count": 19,
   "id": "e96fbc02",
   "metadata": {},
   "outputs": [
    {
     "name": "stdout",
     "output_type": "stream",
     "text": [
      "1\n",
      "2\n",
      "3\n",
      "4\n",
      "5\n",
      "6\n",
      "7\n",
      "8\n",
      "9\n",
      "10\n"
     ]
    }
   ],
   "source": [
    "# Using For Loop\n",
    "for i in range(1,11):\n",
    "    if i<11:\n",
    "        print(i)\n",
    "    i=i+1;"
   ]
  },
  {
   "cell_type": "code",
   "execution_count": 26,
   "id": "6e59757a",
   "metadata": {},
   "outputs": [
    {
     "name": "stdout",
     "output_type": "stream",
     "text": [
      "1\n",
      "2\n",
      "3\n",
      "4\n",
      "5\n",
      "6\n",
      "7\n",
      "8\n",
      "9\n",
      "10\n"
     ]
    }
   ],
   "source": [
    "# Using While Loop\n",
    "i=1\n",
    "while i<11: \n",
    "        print(i)\n",
    "        i=i+1\n"
   ]
  },
  {
   "cell_type": "raw",
   "id": "93b628bc",
   "metadata": {},
   "source": [
    "13. If you had a function named bacon() inside a module named spam, how would you call it after importing spam?\n",
    "\n",
    "Answer: \n",
    "This Function can be called as spam.bacon()"
   ]
  }
 ],
 "metadata": {
  "kernelspec": {
   "display_name": "Python 3 (ipykernel)",
   "language": "python",
   "name": "python3"
  },
  "language_info": {
   "codemirror_mode": {
    "name": "ipython",
    "version": 3
   },
   "file_extension": ".py",
   "mimetype": "text/x-python",
   "name": "python",
   "nbconvert_exporter": "python",
   "pygments_lexer": "ipython3",
   "version": "3.9.7"
  }
 },
 "nbformat": 4,
 "nbformat_minor": 5
}
